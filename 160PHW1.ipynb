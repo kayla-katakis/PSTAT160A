{
 "cells": [
  {
   "cell_type": "code",
   "execution_count": 71,
   "id": "afb9adc4-e733-4557-83a1-78dc5ba25286",
   "metadata": {},
   "outputs": [],
   "source": [
    "import numpy as np\n",
    "import math\n",
    "import matplotlib.pyplot as plt"
   ]
  },
  {
   "cell_type": "code",
   "execution_count": 72,
   "id": "485b85a4-b510-4d8c-bd6a-f69a356eda4b",
   "metadata": {},
   "outputs": [],
   "source": [
    "def exponentialRV(seed, mean, n):\n",
    "    np.random.seed(seed)\n",
    "    u = np.random.random_sample(n)\n",
    "    exponentialSample = (-mean)*np.log(1-u)\n",
    "    return exponentialSample\n",
    "\n",
    "    \n",
    "    \n",
    "    "
   ]
  },
  {
   "cell_type": "code",
   "execution_count": 73,
   "id": "40f4c4fd-d430-45f8-9a05-b7fe0d008218",
   "metadata": {},
   "outputs": [],
   "source": [
    "def binomial(seed,p,m,n):\n",
    "    binomialSample = []\n",
    "    np.random.seed(seed)\n",
    "    for i in range(n):\n",
    "        trial = []\n",
    "        for j in range(m):\n",
    "            u = np.random.random_sample(1)\n",
    "            if u > 1-p: \n",
    "                x = 1\n",
    "            else:\n",
    "                x = 0\n",
    "            trial.append(x)\n",
    "        binomialSample.append(np.sum(trial))\n",
    "    return binomialSample\n",
    "        \n",
    "    \n",
    "    "
   ]
  },
  {
   "cell_type": "code",
   "execution_count": 74,
   "id": "15548cc5-1725-487d-9824-8abcfc3609c0",
   "metadata": {},
   "outputs": [],
   "source": [
    "def funnyDiceRV(seed, n):\n",
    "    np.random.seed(seed)\n",
    "    funnyDiceSample= []\n",
    "    for i in range(n):\n",
    "        s = np.random.random_sample(1)\n",
    "        if s < (2/12):\n",
    "            funnyDiceSample.append(1)\n",
    "        elif (2/12) <= s < (4/12):\n",
    "            funnyDiceSample.append(2)\n",
    "        elif (4/12) <= s < (7/12):\n",
    "            funnyDiceSample.append(3)\n",
    "        elif (7/12) <= s < (10/12):\n",
    "            funnyDiceSample.append(4)\n",
    "        elif (10/12) <= s < (11/12):\n",
    "            funnyDiceSample.append(5)\n",
    "        else:\n",
    "            funnyDiceSample.append(6)\n",
    "    return funnyDiceSample"
   ]
  },
  {
   "cell_type": "code",
   "execution_count": 75,
   "id": "e5a492fe-c3ae-4d5d-ae32-c1a36cd938e8",
   "metadata": {},
   "outputs": [
    {
     "name": "stdout",
     "output_type": "stream",
     "text": [
      "[0.26236509 1.21717374 5.88456477 0.33509781 2.30128578]\n",
      "[13, 15, 12, 15, 16]\n",
      "[1, 3, 5, 1, 3]\n"
     ]
    }
   ],
   "source": [
    "print(exponentialRV(105, 3,5))\n",
    "print(binomial(105, 0.7,20,5))\n",
    "print(funnyDiceRV(105, 5))"
   ]
  },
  {
   "cell_type": "code",
   "execution_count": 76,
   "id": "0333eb60-692d-4cb0-83e9-84e4266117f8",
   "metadata": {},
   "outputs": [
    {
     "data": {
      "image/png": "[encoded data removed]",
      "text/plain": [
       "<Figure size 432x288 with 1 Axes>"
      ]
     },
     "metadata": {
      "needs_background": "light"
     },
     "output_type": "display_data"
    },
    {
     "data": {
      "image/png": "[encoded data removed]",
      "text/plain": [
       "<Figure size 432x288 with 1 Axes>"
      ]
     },
     "metadata": {
      "needs_background": "light"
     },
     "output_type": "display_data"
    },
    {
     "data": {
      "image/png": "[encoded data removed]",
      "text/plain": [
       "<Figure size 432x288 with 1 Axes>"
      ]
     },
     "metadata": {
      "needs_background": "light"
     },
     "output_type": "display_data"
    }
   ],
   "source": [
    "numberSimulations=10000\n",
    "exponentialSamples=exponentialRV(1, 2,numberSimulations)\n",
    "binomialSamples=binomial(1, 0.7,20,numberSimulations)\n",
    "funnyDiceSamples=funnyDiceRV(1, numberSimulations)\n",
    "\n",
    "#np.histogram(exponentialSamples)\n",
    "plt.hist(exponentialSamples, bins='auto')\n",
    "plt.title(\"Histogram Exponential\")\n",
    "plt.show()\n",
    "plt.hist(binomialSamples, bins='auto')\n",
    "plt.title(\"Histogram Binomial\")\n",
    "plt.show()\n",
    "plt.hist(funnyDiceSamples, bins='auto')\n",
    "plt.title(\"Histogram Funny Dice\")\n",
    "plt.show()"
   ]
  },
  {
   "cell_type": "code",
   "execution_count": 77,
   "id": "8ec33abc-b710-4042-9337-628f35f5959e",
   "metadata": {},
   "outputs": [
    {
     "name": "stdout",
     "output_type": "stream",
     "text": [
      "1.9770938809848277\n",
      "3.848581029324636\n"
     ]
    }
   ],
   "source": [
    "emp_mean = np.sum(exponentialSamples) /numberSimulations\n",
    "print(emp_mean)\n",
    "\n",
    "emp_var = np.sum((exponentialSamples-emp_mean)**2)/numberSimulations\n",
    "print(emp_var)\n",
    "\n",
    "#The result of these calculations is relatively close to what I expected, as they fall\n",
    "# in line with the law of large numbers, as the number of samples (or simulations) increases,\n",
    "# the sample mean approaches the population mean. and 1.977... is approaching 2 at 10000\n",
    "# simulations. Of course, since the empirical variance is based on the empirical mean, as \n",
    "# the number of simulations increases, the variance will decrease."
   ]
  },
  {
   "cell_type": "code",
   "execution_count": null,
   "id": "a447b431-1137-4bfb-96ff-0e09e7f836de",
   "metadata": {},
   "outputs": [],
   "source": []
  },
  {
   "cell_type": "code",
   "execution_count": null,
   "id": "0556b58c-a891-4c3a-9830-a4275600a6e9",
   "metadata": {},
   "outputs": [],
   "source": []
  }
 ],
 "metadata": {
  "kernelspec": {
   "display_name": "Python 3 (ipykernel)",
   "language": "python",
   "name": "python3"
  },
  "language_info": {
   "codemirror_mode": {
    "name": "ipython",
    "version": 3
   },
   "file_extension": ".py",
   "mimetype": "text/x-python",
   "name": "python",
   "nbconvert_exporter": "python",
   "pygments_lexer": "ipython3",
   "version": "3.9.12"
  }
 },
 "nbformat": 4,
 "nbformat_minor": 5
}
