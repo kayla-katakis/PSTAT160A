{
 "cells": [
  {
   "cell_type": "code",
   "execution_count": 4,
   "id": "bb18e9c5-bf9b-439b-9317-c1177f54ab8b",
   "metadata": {},
   "outputs": [],
   "source": [
    "import numpy as np\n",
    "import math"
   ]
  },
  {
   "cell_type": "code",
   "execution_count": 5,
   "id": "f5f32cf7-1e88-4e7b-9a5f-0c9bd8de9af7",
   "metadata": {
    "tags": []
   },
   "outputs": [
    {
     "data": {
      "text/plain": [
       "21470.333911846854"
      ]
     },
     "execution_count": 5,
     "metadata": {},
     "output_type": "execute_result"
    }
   ],
   "source": [
    "def randomSum(averageClaimSize, j):\n",
    "    randomSum = sum(np.random.exponential(averageClaimSize,j))\n",
    "    return randomSum\n",
    "\n",
    "# test\n",
    "randomSum(1500,20)"
   ]
  },
  {
   "cell_type": "code",
   "execution_count": 6,
   "id": "fc8ae889-9b7f-41b0-8ac3-9ed0069b5660",
   "metadata": {
    "tags": []
   },
   "outputs": [
    {
     "data": {
      "text/plain": [
       "[20175.073062638934,\n",
       " 35691.33958680495,\n",
       " 17765.153245622594,\n",
       " 23309.700461669272,\n",
       " 29646.67351639405,\n",
       " 38416.35289393149,\n",
       " 28459.659389171462,\n",
       " 34153.40935826205,\n",
       " 37984.586923090064,\n",
       " 33571.60724531329]"
      ]
     },
     "execution_count": 6,
     "metadata": {},
     "output_type": "execute_result"
    }
   ],
   "source": [
    "def simulatorConditional(averageClaimSize, j, M):\n",
    "    samples = []\n",
    "    for i in range(M):\n",
    "        samples.append(randomSum(averageClaimSize, j))\n",
    "    return samples\n",
    "\n",
    "# test\n",
    "simulatorConditional(1500,20,10)"
   ]
  },
  {
   "cell_type": "code",
   "execution_count": 7,
   "id": "42a9e8f6-8d90-42c9-9845-600958fbe050",
   "metadata": {},
   "outputs": [
    {
     "name": "stdout",
     "output_type": "stream",
     "text": [
      "15180.444436033451\n",
      "30058.131401967206\n"
     ]
    }
   ],
   "source": [
    "# approximations of conditional expectation\n",
    "\n",
    "# j = 10\n",
    "x = (1/1000)*sum(simulatorConditional(1500,10,1000))\n",
    "print(x)\n",
    "\n",
    "#j = 20\n",
    "y = (1/1000)*sum(simulatorConditional(1500,20,1000))\n",
    "print(y)"
   ]
  },
  {
   "cell_type": "code",
   "execution_count": 8,
   "id": "e16b21c5-0e53-43b2-86f7-085173d015d5",
   "metadata": {},
   "outputs": [],
   "source": [
    "def simulator(averageClaimSize, poissonParameter, M):\n",
    "    samples = []\n",
    "    for i in range(M):\n",
    "        samples.append(randomSum(averageClaimSize, np.random.poisson(poissonParameter)))\n",
    "    return samples\n"
   ]
  },
  {
   "cell_type": "code",
   "execution_count": 9,
   "id": "d3d8c203-eb73-4e74-bf72-8c24cb99790a",
   "metadata": {},
   "outputs": [
    {
     "data": {
      "text/plain": [
       "29876.062071971446"
      ]
     },
     "execution_count": 9,
     "metadata": {},
     "output_type": "execute_result"
    }
   ],
   "source": [
    "# verifying Wald's Identity holds via empirical mean\n",
    "empmean = (1/5000)*sum(simulator(1500,20,5000))\n",
    "empmean\n",
    "# Empirical mean is approx. 30000 at 5000 simulations. Wald's Identity holds!"
   ]
  },
  {
   "cell_type": "code",
   "execution_count": 19,
   "id": "113efc98-44be-4c60-986a-711cd5a31d95",
   "metadata": {},
   "outputs": [
    {
     "data": {
      "text/plain": [
       "0.2"
      ]
     },
     "execution_count": 19,
     "metadata": {},
     "output_type": "execute_result"
    }
   ],
   "source": [
    "def MCprobEstimation(averageClaimSize, averageNumberOfClaims, K, M):\n",
    "    sim = simulator(averageClaimSize, averageNumberOfClaims, M)\n",
    "    count = 0\n",
    "    for i in sim:\n",
    "        if i <= K:\n",
    "            count +=1\n",
    "    empiricalprob = count/M\n",
    "    return empiricalprob\n",
    "\n",
    "# test\n",
    "MCprobEstimation(1500,20,20000,10)"
   ]
  },
  {
   "cell_type": "code",
   "execution_count": 17,
   "id": "0a11e2a3-542c-4a60-99ee-cab0dedca0b9",
   "metadata": {},
   "outputs": [
    {
     "name": "stdout",
     "output_type": "stream",
     "text": [
      "0.51\n",
      "0.533\n",
      "0.5318\n",
      "0.9\n",
      "0.917\n",
      "0.9292\n"
     ]
    }
   ],
   "source": [
    "# test with varying M= 100, 1000, 10000 for K = 35000 and K = 45000\n",
    "\n",
    "print(MCprobEstimation(1500, 20, 30000, 100))\n",
    "print(MCprobEstimation(1500, 20, 30000, 1000))\n",
    "print(MCprobEstimation(1500, 20, 30000, 10000))\n",
    "\n",
    "print(MCprobEstimation(1500, 20, 45000, 100))\n",
    "print(MCprobEstimation(1500, 20, 45000, 1000))\n",
    "print(MCprobEstimation(1500, 20, 45000, 10000))"
   ]
  },
  {
   "cell_type": "code",
   "execution_count": null,
   "id": "e6674583-2cd1-404b-a0a4-e8e2b1fbe005",
   "metadata": {},
   "outputs": [],
   "source": []
  }
 ],
 "metadata": {
  "kernelspec": {
   "display_name": "Python 3 (ipykernel)",
   "language": "python",
   "name": "python3"
  },
  "language_info": {
   "codemirror_mode": {
    "name": "ipython",
    "version": 3
   },
   "file_extension": ".py",
   "mimetype": "text/x-python",
   "name": "python",
   "nbconvert_exporter": "python",
   "pygments_lexer": "ipython3",
   "version": "3.9.12"
  }
 },
 "nbformat": 4,
 "nbformat_minor": 5
}
